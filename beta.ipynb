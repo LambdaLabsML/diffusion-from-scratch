{
 "cells": [
  {
   "cell_type": "code",
   "id": "initial_id",
   "metadata": {
    "collapsed": true
   },
   "source": [
    "from matplotlib import pyplot as plt\n",
    "import numpy as np\n",
    "from ipywidgets import widgets, FloatLogSlider, IntSlider, FloatSlider\n",
    "\n",
    "# fig, ax = plt.subplots()\n",
    "# ax.grid()\n",
    "\n",
    "# Calculate the beta and alpha parameters for animation\n",
    "n_steps = 1000  # Reduced steps for smoother animation\n",
    "beta_1 = 1e-4\n",
    "beta_T = 0.02\n",
    "beta_t = np.linspace(beta_1, beta_T, n_steps)\n",
    "alpha_t = 1 - beta_t\n",
    "alpha_t_hat = np.insert(np.cumprod(alpha_t), 0, 1)\n",
    "\n",
    "def calc_alpha_t_hat(beta_1, beta_T, n_steps):\n",
    "    beta_t = np.linspace(beta_1, beta_T, n_steps)\n",
    "    alpha_t = 1 - beta_t\n",
    "    alpha_t_hat = np.insert(np.cumprod(alpha_t), 0, 1)\n",
    "    print(f'alpha_T={alpha_t_hat[-1]}')\n",
    "    return alpha_t_hat\n",
    "\n",
    "@widgets.interact(\n",
    "    beta_1=FloatLogSlider(value=1e-4, base=10, min=-8, max=-0.5, step=0.5),\n",
    "    # beta_T=FloatLogSlider(value=0.02, base=10, min=2*np.log10(0.02), max=0, step=-np.log10(0.02)/8),\n",
    "    beta_T=FloatSlider(value=0.02, min=0.02, max=1, step=0.02),\n",
    "    n_steps=IntSlider(value=1000, min=20, max=1000, step=20))\n",
    "def update(beta_1=1e-4, beta_T=0.02, n_steps=1000):\n",
    "    alpha_t_hat = calc_alpha_t_hat(beta_1, beta_T, n_steps)\n",
    "    # ax.plot(alpha_t_hat)\n",
    "    plt.plot(alpha_t_hat)\n",
    "    plt.grid()\n"
   ],
   "outputs": [],
   "execution_count": null
  },
  {
   "metadata": {},
   "cell_type": "code",
   "source": "",
   "id": "39ec615fd7447dd",
   "outputs": [],
   "execution_count": null
  },
  {
   "metadata": {},
   "cell_type": "code",
   "source": [
    "from matplotlib import pyplot as plt\n",
    "import numpy as np\n",
    "from ipywidgets import widgets, FloatLogSlider, IntSlider, FloatSlider\n",
    "\n",
    "# fig, ax = plt.subplots()\n",
    "# ax.grid()\n",
    "\n",
    "# Calculate the beta and alpha parameters for animation\n",
    "n_steps = 1000  # Reduced steps for smoother animation\n",
    "beta_1 = 1e-4\n",
    "beta_T = 0.02\n",
    "beta_t = np.linspace(beta_1, beta_T, n_steps)\n",
    "alpha_t = 1 - beta_t\n",
    "alpha_t_hat = np.insert(np.cumprod(alpha_t), 0, 1)\n",
    "linerp = np.linspace(alpha_t_hat[0], alpha_t_hat[-1], len(alpha_t_hat))\n",
    "\n",
    "@widgets.interact(\n",
    "    w_linerp=FloatSlider(value=0, min=0, max=1, step=0.01))\n",
    "def update(w_linerp=0):\n",
    "    alpha = (1-w_linerp) * alpha_t_hat + w_linerp * linerp\n",
    "    snr = alpha / (1 - alpha)\n",
    "    # ax.plot(alpha)\n",
    "    plt.plot(snr)\n",
    "    plt.yscale('log')\n",
    "    plt.grid()\n"
   ],
   "id": "ec4fe5405dfe85d",
   "outputs": [],
   "execution_count": null
  },
  {
   "metadata": {},
   "cell_type": "code",
   "source": [
    "b_T = 0.02\n",
    "N = 1000\n",
    "- b_T * N / (2 * np.log(10))"
   ],
   "id": "27c570d2c2878cd8",
   "outputs": [],
   "execution_count": null
  },
  {
   "metadata": {},
   "cell_type": "code",
   "source": [
    "b = 0.02\n",
    "N = 1000\n",
    "log_prod = 0\n",
    "for i in range(1000):\n",
    "    log_prod += np.log10(1 - b * i/N)\n",
    "log_prod"
   ],
   "id": "a6c1c040b3be295d",
   "outputs": [],
   "execution_count": null
  },
  {
   "metadata": {},
   "cell_type": "code",
   "source": [
    "N = 1000\n",
    "b_T = -2 * np.log(10) * -4.343 / N\n",
    "b_T = 20 / N\n",
    "b_T"
   ],
   "id": "a72b046fc6e1e206",
   "outputs": [],
   "execution_count": null
  },
  {
   "metadata": {},
   "cell_type": "code",
   "source": "",
   "id": "3de69fe7af77df5e",
   "outputs": [],
   "execution_count": null
  }
 ],
 "metadata": {
  "kernelspec": {
   "display_name": "Python 3",
   "language": "python",
   "name": "python3"
  },
  "language_info": {
   "codemirror_mode": {
    "name": "ipython",
    "version": 2
   },
   "file_extension": ".py",
   "mimetype": "text/x-python",
   "name": "python",
   "nbconvert_exporter": "python",
   "pygments_lexer": "ipython2",
   "version": "2.7.6"
  }
 },
 "nbformat": 4,
 "nbformat_minor": 5
}
